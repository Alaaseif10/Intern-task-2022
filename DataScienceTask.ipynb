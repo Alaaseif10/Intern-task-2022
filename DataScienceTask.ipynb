{
 "cells": [
  {
   "cell_type": "code",
   "execution_count": 22,
   "metadata": {},
   "outputs": [
    {
     "data": {
      "text/html": [
       "<div>\n",
       "<style scoped>\n",
       "    .dataframe tbody tr th:only-of-type {\n",
       "        vertical-align: middle;\n",
       "    }\n",
       "\n",
       "    .dataframe tbody tr th {\n",
       "        vertical-align: top;\n",
       "    }\n",
       "\n",
       "    .dataframe thead th {\n",
       "        text-align: right;\n",
       "    }\n",
       "</style>\n",
       "<table border=\"1\" class=\"dataframe\">\n",
       "  <thead>\n",
       "    <tr style=\"text-align: right;\">\n",
       "      <th></th>\n",
       "      <th>Beverage_category</th>\n",
       "      <th>Beverage</th>\n",
       "      <th>Beverage_prep</th>\n",
       "      <th>Calories</th>\n",
       "      <th>Sugars (g)</th>\n",
       "      <th>Caffeine (mg)</th>\n",
       "    </tr>\n",
       "  </thead>\n",
       "  <tbody>\n",
       "    <tr>\n",
       "      <th>0</th>\n",
       "      <td>Coffee</td>\n",
       "      <td>Brewed Coffee</td>\n",
       "      <td>Brewed Coffee-Short</td>\n",
       "      <td>3</td>\n",
       "      <td>0</td>\n",
       "      <td>175</td>\n",
       "    </tr>\n",
       "    <tr>\n",
       "      <th>1</th>\n",
       "      <td>Coffee</td>\n",
       "      <td>Brewed Coffee</td>\n",
       "      <td>Brewed Coffee-Tall</td>\n",
       "      <td>4</td>\n",
       "      <td>0</td>\n",
       "      <td>260</td>\n",
       "    </tr>\n",
       "    <tr>\n",
       "      <th>2</th>\n",
       "      <td>Coffee</td>\n",
       "      <td>Brewed Coffee</td>\n",
       "      <td>Brewed Coffee-Grande</td>\n",
       "      <td>5</td>\n",
       "      <td>0</td>\n",
       "      <td>330</td>\n",
       "    </tr>\n",
       "    <tr>\n",
       "      <th>3</th>\n",
       "      <td>Coffee</td>\n",
       "      <td>Brewed Coffee</td>\n",
       "      <td>Brewed Coffee-Venti</td>\n",
       "      <td>5</td>\n",
       "      <td>0</td>\n",
       "      <td>410</td>\n",
       "    </tr>\n",
       "    <tr>\n",
       "      <th>4</th>\n",
       "      <td>Classic Espresso Drinks</td>\n",
       "      <td>Caffè Latte</td>\n",
       "      <td>Caffè Latte-Short Nonfat Milk</td>\n",
       "      <td>70</td>\n",
       "      <td>9</td>\n",
       "      <td>75</td>\n",
       "    </tr>\n",
       "    <tr>\n",
       "      <th>...</th>\n",
       "      <td>...</td>\n",
       "      <td>...</td>\n",
       "      <td>...</td>\n",
       "      <td>...</td>\n",
       "      <td>...</td>\n",
       "      <td>...</td>\n",
       "    </tr>\n",
       "    <tr>\n",
       "      <th>237</th>\n",
       "      <td>Frappuccino® Blended Crème</td>\n",
       "      <td>Strawberries &amp; Crème (Without Whipped Cream)</td>\n",
       "      <td>Strawberries &amp; Crème (Without Whipped Cream)-S...</td>\n",
       "      <td>320</td>\n",
       "      <td>64</td>\n",
       "      <td>0</td>\n",
       "    </tr>\n",
       "    <tr>\n",
       "      <th>238</th>\n",
       "      <td>Frappuccino® Blended Crème</td>\n",
       "      <td>Vanilla Bean (Without Whipped Cream)</td>\n",
       "      <td>Vanilla Bean (Without Whipped Cream)-Tall Nonf...</td>\n",
       "      <td>170</td>\n",
       "      <td>38</td>\n",
       "      <td>0</td>\n",
       "    </tr>\n",
       "    <tr>\n",
       "      <th>239</th>\n",
       "      <td>Frappuccino® Blended Crème</td>\n",
       "      <td>Vanilla Bean (Without Whipped Cream)</td>\n",
       "      <td>Vanilla Bean (Without Whipped Cream)-Whole Milk</td>\n",
       "      <td>200</td>\n",
       "      <td>38</td>\n",
       "      <td>0</td>\n",
       "    </tr>\n",
       "    <tr>\n",
       "      <th>240</th>\n",
       "      <td>Frappuccino® Blended Crème</td>\n",
       "      <td>Vanilla Bean (Without Whipped Cream)</td>\n",
       "      <td>Vanilla Bean (Without Whipped Cream)-Soymilk</td>\n",
       "      <td>180</td>\n",
       "      <td>35</td>\n",
       "      <td>0</td>\n",
       "    </tr>\n",
       "    <tr>\n",
       "      <th>241</th>\n",
       "      <td>Frappuccino® Blended Crème</td>\n",
       "      <td>Vanilla Bean (Without Whipped Cream)</td>\n",
       "      <td>Vanilla Bean (Without Whipped Cream)-Grande No...</td>\n",
       "      <td>240</td>\n",
       "      <td>55</td>\n",
       "      <td>0</td>\n",
       "    </tr>\n",
       "  </tbody>\n",
       "</table>\n",
       "<p>242 rows × 6 columns</p>\n",
       "</div>"
      ],
      "text/plain": [
       "              Beverage_category                                      Beverage  \\\n",
       "0                        Coffee                                 Brewed Coffee   \n",
       "1                        Coffee                                 Brewed Coffee   \n",
       "2                        Coffee                                 Brewed Coffee   \n",
       "3                        Coffee                                 Brewed Coffee   \n",
       "4       Classic Espresso Drinks                                   Caffè Latte   \n",
       "..                          ...                                           ...   \n",
       "237  Frappuccino® Blended Crème  Strawberries & Crème (Without Whipped Cream)   \n",
       "238  Frappuccino® Blended Crème          Vanilla Bean (Without Whipped Cream)   \n",
       "239  Frappuccino® Blended Crème          Vanilla Bean (Without Whipped Cream)   \n",
       "240  Frappuccino® Blended Crème          Vanilla Bean (Without Whipped Cream)   \n",
       "241  Frappuccino® Blended Crème          Vanilla Bean (Without Whipped Cream)   \n",
       "\n",
       "                                         Beverage_prep  Calories   Sugars (g)  \\\n",
       "0                                  Brewed Coffee-Short         3            0   \n",
       "1                                   Brewed Coffee-Tall         4            0   \n",
       "2                                 Brewed Coffee-Grande         5            0   \n",
       "3                                  Brewed Coffee-Venti         5            0   \n",
       "4                        Caffè Latte-Short Nonfat Milk        70            9   \n",
       "..                                                 ...       ...          ...   \n",
       "237  Strawberries & Crème (Without Whipped Cream)-S...       320           64   \n",
       "238  Vanilla Bean (Without Whipped Cream)-Tall Nonf...       170           38   \n",
       "239    Vanilla Bean (Without Whipped Cream)-Whole Milk       200           38   \n",
       "240       Vanilla Bean (Without Whipped Cream)-Soymilk       180           35   \n",
       "241  Vanilla Bean (Without Whipped Cream)-Grande No...       240           55   \n",
       "\n",
       "    Caffeine (mg)  \n",
       "0             175  \n",
       "1             260  \n",
       "2             330  \n",
       "3             410  \n",
       "4              75  \n",
       "..            ...  \n",
       "237             0  \n",
       "238             0  \n",
       "239             0  \n",
       "240             0  \n",
       "241             0  \n",
       "\n",
       "[242 rows x 6 columns]"
      ]
     },
     "execution_count": 22,
     "metadata": {},
     "output_type": "execute_result"
    }
   ],
   "source": [
    "import pandas as pd\n",
    "# read csv file \n",
    "data = pd.read_csv('task/Data-science task/drinkMenu.csv')\n",
    "# delete duplicated rows\n",
    "data.drop_duplicates()\n",
    "# fill null values with zeros\n",
    "data = data.fillna(0)\n",
    "#  drop unnecessary columns \n",
    "data.drop(data.columns[[4,5,6,7,8,9,10,12,13,14,15,16]],axis=1, inplace=True)\n",
    "# concat between name and property for facilitating visualization\n",
    "data[\"Beverage_prep\"] = data['Beverage'].astype(str) +\"-\"+ data[\"Beverage_prep\"]\n",
    "data\n",
    "\n"
   ]
  },
  {
   "cell_type": "code",
   "execution_count": 23,
   "metadata": {},
   "outputs": [
    {
     "data": {
      "text/plain": [
       "<BarContainer object of 242 artists>"
      ]
     },
     "execution_count": 23,
     "metadata": {},
     "output_type": "execute_result"
    },
    {
     "data": {
      "image/png": "[encoded data removed]",
      "text/plain": [
       "<Figure size 432x288 with 1 Axes>"
      ]
     },
     "metadata": {
      "needs_background": "light"
     },
     "output_type": "display_data"
    }
   ],
   "source": [
    "import matplotlib.pyplot as plt\n",
    "#  visualize the highest calories\n",
    "type = data.iloc[:,2]\n",
    "calory = data.iloc[:,3]\n",
    "plt.bar(type,calory)"
   ]
  },
  {
   "cell_type": "code",
   "execution_count": 24,
   "metadata": {},
   "outputs": [
    {
     "data": {
      "text/plain": [
       "<BarContainer object of 242 artists>"
      ]
     },
     "execution_count": 24,
     "metadata": {},
     "output_type": "execute_result"
    },
    {
     "data": {
      "image/png": "[encoded data removed]",
      "text/plain": [
       "<Figure size 432x288 with 1 Axes>"
      ]
     },
     "metadata": {
      "needs_background": "light"
     },
     "output_type": "display_data"
    }
   ],
   "source": [
    "#  visualize the highest sugar\n",
    "type = data.iloc[:,2]\n",
    "sugar = data.iloc[:,3]\n",
    "plt.bar(type,calory)"
   ]
  }
 ],
 "metadata": {
  "interpreter": {
   "hash": "8597ec7b7ac6c293bbbdc3af72aae213e41848351d5e8c64dff717f1b25af24b"
  },
  "kernelspec": {
   "display_name": "Python 3.8.10 64-bit",
   "language": "python",
   "name": "python3"
  },
  "language_info": {
   "codemirror_mode": {
    "name": "ipython",
    "version": 3
   },
   "file_extension": ".py",
   "mimetype": "text/x-python",
   "name": "python",
   "nbconvert_exporter": "python",
   "pygments_lexer": "ipython3",
   "version": "3.8.10"
  },
  "orig_nbformat": 4
 },
 "nbformat": 4,
 "nbformat_minor": 2
}
